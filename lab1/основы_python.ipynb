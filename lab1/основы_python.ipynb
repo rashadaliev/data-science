{
  "cells": [
    {
      "cell_type": "markdown",
      "metadata": {
        "id": "M-DGa20PaHnu"
      },
      "source": [
        "#Задача 1\n",
        "Написать функцию на вход которой подается строка, состоящая из латинских букв.\n",
        "Функция должна вернуть количество гласных букв (a, e, i, o, u) в этой строке. Написать тесты для кода"
      ]
    },
    {
      "cell_type": "code",
      "execution_count": 1,
      "metadata": {
        "id": "XvX8X_JJ6PCb"
      },
      "outputs": [
        {
          "name": "stdout",
          "output_type": "stream",
          "text": [
            "2\n",
            "1\n",
            "1\n",
            "6\n",
            "1\n"
          ]
        }
      ],
      "source": [
        "def vowels(s):\n",
        "  i = 0\n",
        "  t = 'aeiou'\n",
        "  for l in s:\n",
        "    if l in t:\n",
        "      i += 1\n",
        "  return i\n",
        "\n",
        "print(vowels('aa'))\n",
        "print(vowels('python'))\n",
        "print(vowels('monty'))\n",
        "print(vowels('Guido van Rossum'))\n",
        "print(vowels('abcd'))"
      ]
    },
    {
      "cell_type": "markdown",
      "metadata": {
        "id": "t2ClV_Y0bbr6"
      },
      "source": [
        "# Задача 2\n",
        "Написать функцию на вход, которой подается строка. Функция должна вернуть true, если\n",
        "каждый символ в строке встречается только 1 раз, иначе должна вернуть false. Написать тесты для кода"
      ]
    },
    {
      "cell_type": "code",
      "execution_count": 2,
      "metadata": {
        "id": "FppbECao6VIz"
      },
      "outputs": [
        {
          "name": "stdout",
          "output_type": "stream",
          "text": [
            "True\n",
            "False\n",
            "True\n",
            "False\n",
            "False\n"
          ]
        }
      ],
      "source": [
        "def is_unique(s):\n",
        "    if len(set(s)) == len(s):\n",
        "        return True\n",
        "    return False\n",
        "\n",
        "print(is_unique('abcdefg'))\n",
        "print(is_unique('aabcd'))\n",
        "print(is_unique('Guido'))\n",
        "print(is_unique('Ferucci'))\n",
        "print(is_unique('Lamborghini'))"
      ]
    },
    {
      "cell_type": "markdown",
      "metadata": {
        "id": "udRiIK1cdt6E"
      },
      "source": [
        "# Задача 3\n",
        "Написать функцию, которая принимает положительное число и возвращает количество\n",
        "бит равных 1 в этом числе. Написать тесты для кода"
      ]
    },
    {
      "cell_type": "code",
      "execution_count": 3,
      "metadata": {
        "id": "6tkfDJRz6dp_"
      },
      "outputs": [
        {
          "name": "stdout",
          "output_type": "stream",
          "text": [
            "2\n",
            "2\n",
            "1\n",
            "1\n",
            "3\n"
          ]
        }
      ],
      "source": [
        "def bitnums(n):\n",
        "  bit_n = bin(n)\n",
        "  bit_sum = 0\n",
        "  for i in bit_n:\n",
        "    if i == '1':\n",
        "      bit_sum += 1\n",
        "  return bit_sum\n",
        "\n",
        "print(bitnums(5))\n",
        "print(bitnums(10))\n",
        "print(bitnums(1))\n",
        "print(bitnums(2))\n",
        "print(bitnums(11))"
      ]
    },
    {
      "cell_type": "markdown",
      "metadata": {
        "id": "26dDUz-Ae17N"
      },
      "source": [
        "# Задача 4\n",
        "Написать функцию, которая принимает положительное число. Функция должна вернуть то,\n",
        "сколько раз необходимо перемножать цифры числа или результат перемножения, чтобы\n",
        "получилось число состоящее из одной цифры.\n",
        "Например, для входного числа:\n",
        "· 39 функция должна вернуть 3, так как 3*9=27 => 2*7=14 => 1*4=4\n",
        "· 4 функция должна вернуть 0, так как число уже состоит из одной цифры\n",
        "· 999 функция должна вернуть 4, так как 9*9*9=729 => 7*2*9=126 => 1*2*6=12 =>\n",
        "1*2=2. Написать тесты для кода"
      ]
    },
    {
      "cell_type": "code",
      "execution_count": 4,
      "metadata": {
        "id": "BH1A_Mgi6i4G"
      },
      "outputs": [
        {
          "name": "stdout",
          "output_type": "stream",
          "text": [
            "4\n",
            "3\n"
          ]
        }
      ],
      "source": [
        "def magic(n):\n",
        "  count = 0\n",
        "  if n < 10:\n",
        "    return 0\n",
        "  while n >= 10:\n",
        "    multiplied = 1\n",
        "    for i in str(n):\n",
        "      multiplied *= int(i)\n",
        "    n = multiplied\n",
        "    count += 1\n",
        "  return count\n",
        "\n",
        "print(magic(999))\n",
        "print(magic(39))"
      ]
    },
    {
      "cell_type": "markdown",
      "metadata": {
        "id": "0nS-kIa8g8vd"
      },
      "source": [
        "# Задача 5\n",
        "Написать функцию, которая принимает два целочисленных вектора одинаковой длины и\n",
        "возвращает среднеквадратическое отклонение двух векторов. Написать тесты для кода"
      ]
    },
    {
      "cell_type": "code",
      "execution_count": 5,
      "metadata": {
        "id": "8iphx4LM6xbx"
      },
      "outputs": [
        {
          "name": "stdout",
          "output_type": "stream",
          "text": [
            "2.8284271247461903\n"
          ]
        }
      ],
      "source": [
        "import numpy as np\n",
        "def mse(vector1, vector2):\n",
        "  vector1 = np.array(vector1)\n",
        "  vector2 = np.array(vector2)\n",
        "\n",
        "  sq_diff = (vector1 - vector2) ** 2\n",
        "  mean_sq_diff = np.mean(sq_diff)\n",
        "  standartDeviation = np.sqrt(mean_sq_diff)\n",
        "  return standartDeviation\n",
        "\n",
        "vector1 = [1, 2, 3, 4, 5]\n",
        "vector2 = [5, 4, 3, 2, 1]\n",
        "print(mse(vector1, vector2))"
      ]
    },
    {
      "cell_type": "markdown",
      "metadata": {
        "id": "vpIPKL439zkw"
      },
      "source": [
        "# Задача 6\n",
        "Написать функцию, принимающая целое положительное число. Функция должна вернуть\n",
        "строку вида “(n1**p1)(n2**p2)…(nk**pk)” представляющая разложение числа на простые\n",
        "множители (если pi == 1, то выводить только ni).\n",
        "Например, для числа 86240 функция должна вернуть “(2**5)(5)(7**2)(11)”. Написать тесты для кода"
      ]
    },
    {
      "cell_type": "code",
      "execution_count": 7,
      "metadata": {
        "id": "pFebmcZk94Jw"
      },
      "outputs": [
        {
          "name": "stdout",
          "output_type": "stream",
          "text": [
            " [(2 ** 5)][(5)][(7 ** 2)][(11)]\n",
            " [(2 ** 2)][(7)]\n",
            " \n"
          ]
        }
      ],
      "source": [
        "def prime_factors(n):\n",
        "    factors = \" \"\n",
        "    divisor = 2\n",
        "    while divisor <= n:\n",
        "        count = 0\n",
        "        while n % divisor == 0:\n",
        "            count += 1\n",
        "            n /= divisor\n",
        "        if count > 0:\n",
        "          if count == 1:\n",
        "            factors += f\"[({divisor})]\"\n",
        "          else:\n",
        "            factors += f\"[({divisor} ** {count})]\"\n",
        "        divisor += 1\n",
        "    return factors\n",
        "\n",
        "print(prime_factors(86240))\n",
        "print(prime_factors(28))\n",
        "print(prime_factors(1))"
      ]
    },
    {
      "cell_type": "markdown",
      "metadata": {
        "id": "ps2s0BudX7A2"
      },
      "source": [
        "# Задача 7\n",
        "Написать функцию, принимающая целое число n, задающее количество кубиков. Функция\n",
        "должна определить, можно ли из данного кол-ва кубиков построить пирамиду, то есть\n",
        "можно ли представить число n как 1^2+2^2+3^2+…+k^2. Если можно, то функция должна\n",
        "вернуть k, иначе строку “It is impossible”. Написать тесты для кода"
      ]
    },
    {
      "cell_type": "code",
      "execution_count": null,
      "metadata": {
        "id": "3YPjEXxhX_YT"
      },
      "outputs": [
        {
          "name": "stdout",
          "output_type": "stream",
          "text": [
            "1\n",
            "2\n",
            "4\n",
            "It is impossible\n"
          ]
        }
      ],
      "source": [
        "def pyramid(number):\n",
        "  k = 1\n",
        "  sum = 0\n",
        "\n",
        "  while sum < number:\n",
        "    sum += k**2\n",
        "    k += 1\n",
        "\n",
        "  if sum == number:\n",
        "    return k-1\n",
        "  else:\n",
        "    return ('It is impossible')\n",
        "\n",
        "print(pyramid(1))\n",
        "print(pyramid(5)) \n",
        "print(pyramid(30)) \n",
        "print(pyramid(10)) "
      ]
    },
    {
      "cell_type": "markdown",
      "metadata": {
        "id": "KeKgmIdAQMEJ"
      },
      "source": [
        "# Задача 8\n",
        "Функция принимает на вход положительное число и определяет является ли оно сбалансированным, т.е. сумма цифр до средних равна сумме цифр после. Средними в случае нечетного числа цифр считать одну цифру, в случае четного - две средних. Написать тесты для кода"
      ]
    },
    {
      "cell_type": "code",
      "execution_count": 9,
      "metadata": {
        "id": "gMAAqtqlQrZt"
      },
      "outputs": [
        {
          "name": "stdout",
          "output_type": "stream",
          "text": [
            "True\n",
            "False\n"
          ]
        }
      ],
      "source": [
        "def is_balanced(n):\n",
        "  n_str = str(n)\n",
        "  length = len(n_str)\n",
        "\n",
        "  if (length % 2 == 0):\n",
        "    left_sum = sum(map(int, n_str[:length // 2]))\n",
        "    right_sum = sum(map(int, n_str[length // 2:]))\n",
        "    return left_sum == right_sum\n",
        "  else:\n",
        "    middle = length // 2\n",
        "    left_sum = sum(map(int, n_str[:middle]))\n",
        "    right_sum = sum(map(int, n_str[middle + 1:]))\n",
        "    return left_sum == right_sum\n",
        "\n",
        "print(is_balanced(123321)) \n",
        "print(is_balanced(12345)) "
      ]
    }
  ],
  "metadata": {
    "colab": {
      "provenance": []
    },
    "kernelspec": {
      "display_name": "Python 3",
      "name": "python3"
    },
    "language_info": {
      "codemirror_mode": {
        "name": "ipython",
        "version": 3
      },
      "file_extension": ".py",
      "mimetype": "text/x-python",
      "name": "python",
      "nbconvert_exporter": "python",
      "pygments_lexer": "ipython3",
      "version": "3.10.4"
    }
  },
  "nbformat": 4,
  "nbformat_minor": 0
}
