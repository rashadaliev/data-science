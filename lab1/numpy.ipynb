{
  "cells": [
    {
      "cell_type": "markdown",
      "metadata": {
        "id": "vC84e9kzyxPy"
      },
      "source": [
        "<h1>Импорт библиотек"
      ]
    },
    {
      "cell_type": "code",
      "execution_count": 5,
      "metadata": {
        "id": "cgKeNegmQG5S"
      },
      "outputs": [],
      "source": [
        "import numpy as np\n",
        "import matplotlib.pyplot as plt"
      ]
    },
    {
      "cell_type": "markdown",
      "metadata": {
        "id": "qFM9uVU2x4Ls"
      },
      "source": [
        "<h1>Задача 1. Дан набор из $p$ матриц размерностью $(n, n)$ и $p$ векторов размерностью $(n, 1)$, найти сумму произведений матриц на векторы. Написать тесты для кода"
      ]
    },
    {
      "cell_type": "code",
      "execution_count": 18,
      "metadata": {
        "id": "IAbUvEiYyWFF"
      },
      "outputs": [
        {
          "name": "stdout",
          "output_type": "stream",
          "text": [
            "Тест 1 пройден\n",
            "Тест 1 пройден\n"
          ]
        }
      ],
      "source": [
        "def sum_prod(X, V):\n",
        "    '''\n",
        "    X - матрицы (n, n)\n",
        "    V - векторы (n, 1)\n",
        "    Гарантируется, что len(X) == len(V)\n",
        "    '''\n",
        "    result = np.zeros_like(V[0])\n",
        "    for matrix, vector in zip(X,V):\n",
        "        result += np.dot(matrix, vector)\n",
        "    return result\n",
        "\n",
        "\n",
        "def test1():\n",
        "    matrices = [\n",
        "        np.array([[1, 2], [3, 4]]), \n",
        "        np.array([[2, 0], [1, 2]])\n",
        "    ]\n",
        "    vectors = [\n",
        "        np.array([[1], [1]]), \n",
        "        np.array([[2], [3]])\n",
        "    ]\n",
        "    exp_result = np.array([[7], [15]])\n",
        "\n",
        "    assert np.array_equal(sum_prod(matrices, vectors), exp_result), \"Тест не пройден\"\n",
        "    print(\"Тест 1 пройден\")\n",
        "\n",
        "\n",
        "def test2():\n",
        "    matrix = [np.array([[1, 2], [3, 4]])]\n",
        "    vector = [np.array([[1], [1]])]\n",
        "    exp_result = np.array([[3], [7]])\n",
        "\n",
        "    assert np.array_equal(sum_prod(matrix, vector), exp_result), \"Тест не пройден\"\n",
        "    print(\"Тест 1 пройден\")\n",
        "\n",
        "test1()\n",
        "test2()\n",
        "    "
      ]
    },
    {
      "cell_type": "markdown",
      "metadata": {
        "id": "TKwPG4fIy2w4"
      },
      "source": [
        "<h1>Задача 2. Дана матрица M, напишите функцию, которая бинаризует матрицу по некоторому threshold (то есть, все значения большие threshold становятся равными 1, иначе 0). Напишите тесты для кода"
      ]
    },
    {
      "cell_type": "code",
      "execution_count": null,
      "metadata": {
        "id": "KQDNMgsjRNH7"
      },
      "outputs": [
        {
          "name": "stdout",
          "output_type": "stream",
          "text": [
            "Тест 1 пройден\n",
            "Тест 2 пройден\n"
          ]
        }
      ],
      "source": [
        "def binarize(M, threshold=0.5):\n",
        "    return np.where(M > threshold, 1, 0)\n",
        "\n",
        "\n",
        "def test1():\n",
        "    M = np.array([[1, 2, 3], [0, 1, 0], [7, 8, 9]])\n",
        "    exp_result = np.array([[1, 1, 1], [0, 1, 0], [1, 1, 1]])\n",
        "\n",
        "    assert np.array_equal(binarize(M), exp_result), \"Тест 1 не пройден\"\n",
        "    print(\"Тест 1 пройден\")\n",
        "\n",
        "def test2():\n",
        "    M = np.array([[ 1,  0,  3], [-1,  5,  2], [ 4,  0, -2]])\n",
        "    exp_result = np.array([[0, 0, 0], [0, 1, 0], [1, 0, 0]])\n",
        "\n",
        "    assert np.array_equal(binarize(M, 3), exp_result), \"Тест 2 не пройден\"\n",
        "    print(\"Тест 2 пройден\")\n",
        "\n",
        "test1()\n",
        "test2()"
      ]
    },
    {
      "cell_type": "markdown",
      "metadata": {
        "id": "IY5L-h-7zWhN"
      },
      "source": [
        "<h1>Задача 3. Напишите функцию, которая возвращает уникальные элементы из каждой строки матрицы. Напишите такую же функцию, но для столбцов. Напишите тесты для кода"
      ]
    },
    {
      "cell_type": "code",
      "execution_count": 21,
      "metadata": {
        "id": "-8dEZhR0SBC-"
      },
      "outputs": [
        {
          "name": "stdout",
          "output_type": "stream",
          "text": [
            "Тест строк пройден\n",
            "Тест столбцов пройден\n"
          ]
        }
      ],
      "source": [
        "def unique_rows(mat):\n",
        "    row = [np.unique(row) for row in mat]\n",
        "    return row\n",
        "\n",
        "def unique_columns(mat):\n",
        "    column = [np.unique(column) for column in mat.T]\n",
        "    return column\n",
        "\n",
        "\n",
        "def test():\n",
        "    mat = np.array([[1, 2, 2], [3, 3, 3], [4, 5, 2]])\n",
        "    exp_rows = [np.array([1, 2]), np.array([3]), np.array([2, 4, 5])]\n",
        "\n",
        "    assert all(np.array_equal(u, v) for u, v in zip(unique_rows(mat), exp_rows)), \"Тест уникальных строк не пройден\"\n",
        "    print(\"Тест строк пройден\")\n",
        "\n",
        "    exp_cols = [np.array([1, 3, 4]), np.array([2, 3, 5]), np.array([2, 3])]\n",
        "    assert all(np.array_equal(u, v) for u, v in zip(unique_columns(mat), exp_cols)), \"Тест уникальных столбцов не пройден\"\n",
        "    print(\"Тест столбцов пройден\")\n",
        "\n",
        "test()"
      ]
    },
    {
      "cell_type": "markdown",
      "metadata": {
        "id": "roYAlo4Jz-lH"
      },
      "source": [
        "<h1>Задача 4. Напишите функцию, которая заполняет матрицу с размерами $(m, n)$ случайными числами, распределенными по нормальному закону. Затем считает мат. ожидание и дисперсию для каждого из столбцов и строк, а также строит для каждой строки и столбца гистограмму значений (использовать функцию hist из модуля matplotlib.plot)"
      ]
    },
    {
      "cell_type": "code",
      "execution_count": 22,
      "metadata": {
        "id": "nZK_71hMSQzv"
      },
      "outputs": [
        {
          "data": {
            "image/png": "[encoded data removed]",
            "text/plain": [
              "<Figure size 640x480 with 1 Axes>"
            ]
          },
          "metadata": {},
          "output_type": "display_data"
        },
        {
          "data": {
            "image/png": "[encoded data removed]",
            "text/plain": [
              "<Figure size 640x480 with 1 Axes>"
            ]
          },
          "metadata": {},
          "output_type": "display_data"
        },
        {
          "name": "stdout",
          "output_type": "stream",
          "text": [
            "Матрица:\n",
            "[[ 1.26705075  1.5671893  -1.91773426]\n",
            " [-0.64581074 -0.82854106  0.78937702]\n",
            " [ 1.1173989  -0.1209062   1.13029986]]\n",
            "Мат ожидания строк: [ 0.30550193 -0.22832493  0.70893085]\n",
            "Мат ожидания столбцов: [0.5795463  0.20591401 0.00064754]\n",
            "Дисперии строк: [2.48640343 0.52342369 0.34434251]\n",
            "Дисперсии столбцов: [0.75448256 1.00999305 1.85946576]\n"
          ]
        }
      ],
      "source": [
        "def fill_matrix(m, n):\n",
        "    matrix = np.random.normal(size=(m, n))\n",
        "    row_mat_expectation = np.mean(matrix, axis=1)\n",
        "    column_mat_expectation = np.mean(matrix, axis=0)\n",
        "    row_dispersion = np.var(matrix, axis=1)\n",
        "    column_dispersion = np.var(matrix, axis=0)\n",
        "\n",
        "    for i in range(m):\n",
        "        plt.hist(matrix[i], label=f\"Строка {i + 1}\")\n",
        "    plt.title('Гистограммы для строк')\n",
        "    plt.legend()\n",
        "    plt.show()\n",
        "\n",
        "    transponsed_matrix = np.transpose(matrix)\n",
        "    for i in range(n):\n",
        "        plt.hist(transponsed_matrix[i], label=f\"Столбец {i + 1}\")\n",
        "    plt.title('Гистограммы для столбцов')\n",
        "    plt.legend()\n",
        "    plt.show()\n",
        "\n",
        "    return matrix, row_mat_expectation, column_mat_expectation, row_dispersion, column_dispersion\n",
        "\n",
        "matrix, row_mat_expectation, column_mat_expectation, row_dispersion, column_dispersion = fill_matrix(3, 3)\n",
        "\n",
        "print(f\"Матрица:\\n{matrix}\")\n",
        "print(f\"Мат ожидания строк: {row_mat_expectation}\")\n",
        "print(f\"Мат ожидания столбцов: {column_mat_expectation}\")\n",
        "print(f\"Дисперии строк: {row_dispersion}\")\n",
        "print(f\"Дисперсии столбцов: {column_dispersion}\")"
      ]
    },
    {
      "cell_type": "markdown",
      "metadata": {
        "id": "BDyATNdM0dJ2"
      },
      "source": [
        "<h1>Задача 5. Напишите функцию, которая заполняет матрицу $(m, n)$ в шахматном порядке заданными числами $a$ и $b$. Напишите тесты для кода"
      ]
    },
    {
      "cell_type": "code",
      "execution_count": 7,
      "metadata": {
        "id": "RWNJYWQGecS6"
      },
      "outputs": [
        {
          "name": "stdout",
          "output_type": "stream",
          "text": [
            "Тест 1 пройден\n"
          ]
        }
      ],
      "source": [
        "def chess(m, n, a, b):\n",
        "    \"\"\"a - 'чёрные поля', b - 'белые поля'\"\"\"\n",
        "\n",
        "    mat = np.zeros((m, n), dtype=int)\n",
        "\n",
        "    mat[::2, ::2] = a\n",
        "    mat[1::2, 1::2] = a\n",
        "    mat[::2, 1::2] = b\n",
        "    mat[1::2, ::2] = b\n",
        "    \n",
        "    return mat\n",
        "\n",
        "\n",
        "def chess_test():\n",
        "    m, n = 3, 3\n",
        "    a, b = 1, 0\n",
        "    expected_matrix = np.array([[1, 0, 1], [0, 1, 0], [1, 0, 1]])\n",
        "    assert np.array_equal(chess(m, n, a, b), expected_matrix), \"Тест 1 не пройден\"\n",
        "    print(\"Тест 1 пройден\")\n",
        "\n",
        "chess_test()"
      ]
    },
    {
      "cell_type": "markdown",
      "metadata": {
        "id": "-ymXLtTN0vB6"
      },
      "source": [
        "<h1>Задача 6. Напишите функцию, которая отрисовывает прямоугольник с заданными размерами (a, b) на изображении размера (m, n), цвет фона задайте в схеме RGB, как и цвет прямоугольника. Цвета также должны быть параметрами функции. Напишите аналогичную функцию но для овала с полуосями a и b. Напишите тесты для кода.\n",
        "Примечание: уравнение эллипса (границы овала) можно записать как:\n",
        "<h1>$\\frac{(x-x_0)^2}{a^2}+\\frac{(y-y_0)^2}{b^2}=1$"
      ]
    },
    {
      "cell_type": "code",
      "execution_count": 8,
      "metadata": {
        "id": "sNfl1t_kfOF4"
      },
      "outputs": [
        {
          "name": "stderr",
          "output_type": "stream",
          "text": [
            "Clipping input data to the valid range for imshow with RGB data ([0..1] for floats or [0..255] for integers).\n"
          ]
        },
        {
          "data": {
            "image/png": "[encoded data removed]",
            "text/plain": [
              "<Figure size 640x480 with 1 Axes>"
            ]
          },
          "metadata": {},
          "output_type": "display_data"
        },
        {
          "data": {
            "image/png": "[encoded data removed]",
            "text/plain": [
              "<Figure size 640x480 with 1 Axes>"
            ]
          },
          "metadata": {},
          "output_type": "display_data"
        }
      ],
      "source": [
        "import matplotlib.patches as patches\n",
        "\n",
        "def draw_rectangle(a, b, m, n, rectangle_color, background_color):\n",
        "  rect_img = np.zeros((n, m, 3))\n",
        "  rect_img[:, :] = background_color\n",
        "  x0 = (m - a) // 2\n",
        "  y0 = (n - a) // 1\n",
        "  x1 = x0 + a\n",
        "  y1 = y0 + b\n",
        "  rect_img[y0:y1, x0:x1] = rectangle_color\n",
        "  plt.imshow(rect_img)\n",
        "  plt.show()\n",
        "\n",
        "def draw_ellipse(a, b, m, n, ellipse_color, background_color):\n",
        "    ax = plt.axes()\n",
        "    ax.set_facecolor(background_color)\n",
        "    plt.xlim([0, m])\n",
        "    plt.ylim([0, n])\n",
        "    ellipse_color = np.array(ellipse_color) / 255.0\n",
        "    background_color = np.array(background_color) / 255.0\n",
        "    ellipse = patches.Ellipse((m / 2, n / 2), a, b, linewidth=1, color=ellipse_color)\n",
        "    ax.add_patch(ellipse)\n",
        "\n",
        "    plt.show()\n",
        "\n",
        "draw_rectangle(15, 10, 30, 20, (255, 0, 190), (23, 23, 23))\n",
        "draw_ellipse(10, 10, 25, 35, (255, 0, 190), (1, 1, 1))"
      ]
    },
    {
      "cell_type": "markdown",
      "metadata": {
        "id": "S82c38oz244H"
      },
      "source": [
        "<h1>Задача 7. Дан некий временной ряд. Для данного ряда нужно найти его: математическое ожидание, дисперсию, СКО, найти все локальные максимумы и минимумы (локальный максимум - это точка, которая больше своих соседних точек, а локальный минимум - это точка, которая меньше своих соседей), а также вычислить для данного ряда другой ряд, получаемый методом скользящего среднего с размером окна $p$.\n",
        "<h1>Примечание: метод скользящего среднего подразумевает нахождение среднего из подмножетсва ряда размером $p$"
      ]
    },
    {
      "cell_type": "code",
      "execution_count": 10,
      "metadata": {
        "id": "Zb9mIVge5MMt"
      },
      "outputs": [
        {
          "name": "stdout",
          "output_type": "stream",
          "text": [
            "Среднее: 9.454545454545455\n",
            "Дисперсия: 40.97520661157024\n",
            "Стандартное отклонение: 6.40118790628507\n",
            "Локальные максимумы: [ 7 13 22]\n",
            "Локальные минимумы: [4 1 4 6]\n",
            "Сглаженный ряд: [28  8 10 14  2 18 26  8 44 12 38]\n"
          ]
        }
      ],
      "source": [
        "from scipy.signal import argrelextrema\n",
        "\n",
        "def time_series(series, p):\n",
        "  mean_series = np.mean(series)\n",
        "  var_series = np.var(series)\n",
        "  std_series = np.std(series)\n",
        "\n",
        "  max_series_ind = argrelextrema(series, np.greater)[0]\n",
        "  max_series = series[max_series_ind]\n",
        "  min_series_ind = argrelextrema(series, np.less)[0]\n",
        "  min_series = series[min_series_ind]\n",
        "\n",
        "  p_series = np.ones(p) / p\n",
        "  smoothed_series = np.convolve(series, p, mode='same')\n",
        "\n",
        "  return mean_series, var_series, std_series, max_series, min_series, smoothed_series\n",
        "\n",
        "series = np.array([14, 4, 5, 7, 1, 9, 13, 4, 22, 6, 19])\n",
        "mean, variance, std_dev, max_indices, min_indices, smoothed = time_series(series, 2)\n",
        "print(\"Среднее:\", mean)\n",
        "print(\"Дисперсия:\", variance)\n",
        "print(\"Стандартное отклонение:\", std_dev)\n",
        "print(\"Локальные максимумы:\", max_indices)\n",
        "print(\"Локальные минимумы:\", min_indices)\n",
        "print(\"Сглаженный ряд:\", smoothed)"
      ]
    },
    {
      "cell_type": "markdown",
      "metadata": {
        "id": "jPkylmOX5O9n"
      },
      "source": [
        "<h1> Задача 8. Дан некоторый вектор с целочисленными метками классов, напишите функцию, которая выполняет one-hot-encoding для данного вектора\n",
        "<h1> One-hot-encoding - представление, в котором на месте метки некоторого класса стоит 1, в остальных позициях стоит 0. Например для вектора [0, 2, 3, 0] one-hot-encoding выглядит как: [[1, 0, 0, 0], [0, 0, 1, 0], [0, 0, 0, 1], [1, 0, 0, 0]]"
      ]
    },
    {
      "cell_type": "code",
      "execution_count": 11,
      "metadata": {
        "id": "Y-jlnZvw56lD"
      },
      "outputs": [
        {
          "name": "stdout",
          "output_type": "stream",
          "text": [
            "[[1. 0. 0. 0.]\n",
            " [0. 0. 1. 0.]\n",
            " [0. 0. 0. 1.]\n",
            " [1. 0. 0. 0.]]\n"
          ]
        }
      ],
      "source": [
        "def one_hot_encode(vector, num_classes):\n",
        "    encoded = np.zeros((len(vector), num_classes))\n",
        "    for i in range(len(vector)):\n",
        "      encoded[i, vector[i]] = 1\n",
        "    return encoded\n",
        "\n",
        "vector = [0, 2, 3, 0]\n",
        "num_classes = 4\n",
        "print(one_hot_encode(vector, num_classes))"
      ]
    }
  ],
  "metadata": {
    "colab": {
      "provenance": []
    },
    "kernelspec": {
      "display_name": "Python 3",
      "name": "python3"
    },
    "language_info": {
      "codemirror_mode": {
        "name": "ipython",
        "version": 3
      },
      "file_extension": ".py",
      "mimetype": "text/x-python",
      "name": "python",
      "nbconvert_exporter": "python",
      "pygments_lexer": "ipython3",
      "version": "3.10.4"
    }
  },
  "nbformat": 4,
  "nbformat_minor": 0
}
